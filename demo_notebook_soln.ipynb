{
 "cells": [
  {
   "cell_type": "markdown",
   "metadata": {
    "cell_id": "fc78d303-59ec-4f1e-a2b5-0a6963b20e85",
    "deepnote_cell_height": 394.6875,
    "deepnote_cell_type": "markdown",
    "tags": []
   },
   "source": [
    "# Practical Floquet Theory: Demo\n",
    "Tools, tips, and tricks for numerically simulating periodically-driven quantum systems. For more details, please refer to the [notes](https://drive.google.com/drive/folders/13KFdqEYV_USliVJZTkE3Ii6wOhVC7Dug?usp=sharing) accompanying this tutorial.\n",
    "\n",
    "Driven nonlinear systems are ubiquitous throughout physics, and can result in a rich set of dynamical phenomena that are absent in the static case. Within superconducting qubits and circuit QED, we are often interested in understanding the effects that arise when we drive given nonlinear circuit element --- for example, the ac Stark shift or the renormalization of system nonlinearities. More generally, drives can be thought of as a powerful control knob in the cQED toolbox that allow for in-situ modification of the system Hamiltonian. Some exciting examples of recent use cases in the field include dynamical sweet spot engineering, microwave-activated 2Q gates, and realizing Kerr cat qubits, among many others.  \n",
    "\n",
    "When the drive acting on a system is time-periodic, we can use **Floquet theory** to rigorously capture the associated dynamical effects. There are several largely equivalent ways to formulate Floquet problems; some are more amenable to numerical simulation, while others are useful to doing analytic perturbation theory. Here we focus on the former --- specifically, using the extended Hilbert space formalism developed in the lecture part of this tutorial. "
   ]
  },
  {
   "cell_type": "code",
   "execution_count": 1,
   "metadata": {
    "cell_id": "00001-d9a28a5d-fa8a-45e2-97aa-6bfd83746bc6",
    "deepnote_cell_height": 99,
    "deepnote_cell_type": "code",
    "deepnote_to_be_reexecuted": false,
    "execution_millis": 44,
    "execution_start": 1653682787097,
    "source_hash": "2f19d1f9"
   },
   "outputs": [],
   "source": [
    "%load_ext autoreload\n",
    "%autoreload 2"
   ]
  },
  {
   "cell_type": "code",
   "execution_count": 2,
   "metadata": {
    "cell_id": "00002-492d274b-508b-4643-89b3-ad2f94373b33",
    "deepnote_cell_height": 207,
    "deepnote_cell_type": "code",
    "deepnote_to_be_reexecuted": false,
    "execution_millis": 4315,
    "execution_start": 1653682787185,
    "source_hash": "a51804cf",
    "tags": []
   },
   "outputs": [],
   "source": [
    "# Import relevant packages and set up notebook\n",
    "import qutip as qt\n",
    "import numpy as np\n",
    "import matplotlib.pyplot as plt\n",
    "import matplotlib as mpl\n",
    "mpl.rcParams['figure.dpi'] = 150\n",
    "\n",
    "from qubits import *"
   ]
  },
  {
   "cell_type": "markdown",
   "metadata": {
    "cell_id": "00003-15b1ca76-cdda-47b8-adc4-17a028a1c201",
    "deepnote_cell_height": 512.25,
    "deepnote_cell_type": "markdown",
    "tags": []
   },
   "source": [
    "## 0. Overview and Problem Setup\n",
    "\n",
    "\n",
    "In this notebook, we will be working on developing a simple numerical simulation of a driven transmon qubit. Using the tools from Floquet theory, we will build up a simple simulator that allows us to construct the effective Hamiltonian of a driven qubit and diagonalize it to get the quasi-energy spectrum. \n",
    "\n",
    "This notebook is broken into several short sections:\n",
    "1. **Transmon Physics:** Here, we will build up a `Transmon` qubit object, and verify its properties. \n",
    "2. **Setting Up the Floquet System:** Here, we will write a model for a driven qubit and construct the effective Hamiltonian $H_{\\rm eff}$ associated with it. \n",
    "3. **Numerical Diagonalization:** After creating $H_{\\rm eff}$, we diagonalize it and perform quantum number assignment (i.e. state assignment). \n",
    "4. **Verifying Floquet properties:** We check that the various commutation relations and Floquet theorems work.\n",
    "4. **Plotting Energy Spectra**: We apply the tools from steps 1-3 to simulate the ac-Stark shift of an off-resonantly driven transmon qubit. \n",
    "\n",
    "\n",
    "\n",
    "In each section, you will have some short coding problems to work on. Most of this involves filling out the empty code blocks below, as well as testing out various parameters for the simulation. \n",
    "\n",
    "Finally, note that we set $h = 1$, and _use GHz for all energy/frequency parameters_ below! In order to make sure that you are careful with units, we have defined some helpful constants: `GHz = 1`, `MHz = 1e-3`, and `kHz = 1e-6`. \n",
    "\n",
    "\n"
   ]
  },
  {
   "cell_type": "markdown",
   "metadata": {
    "cell_id": "00004-ac9446af-6eec-4ec8-916e-e780d7f2d961",
    "deepnote_cell_height": 465.28125,
    "deepnote_cell_type": "markdown",
    "tags": []
   },
   "source": [
    "## 1. Transmon Physics\n",
    "We begin by defining the transmon qubit via its Hamiltonian\n",
    "$$\n",
    "\\hat{H}_0 = 4 E_C\\big(\\hat{n} - n_g\\big)^2 - E_J \\cos(\\hat{\\varphi})\n",
    "$$\n",
    "In the transmon regime, we require $E_C \\ll E_J$. In this limit, charge dispersion is suppressed exponentially and so the spectrum of $\\hat{H}_0$ should be insensitive to $n_g$; so we can just set it to zero throughout here.\n",
    "\n",
    "In the charge basis $\\{|n\\rangle\\}$, the dimensionless charge operator $\\hat{n}$ can be expressed\n",
    "$$\n",
    "\\hat{n} = \\sum\\limits_{n=-\\infty}^{\\infty} n |n\\rangle\\!\\langle n |\n",
    "$$\n",
    "such that $\\hat{n}|n\\rangle = n|n\\rangle$. In this basis, periodic function of the conjugate phase operator $\\hat{\\varphi}$ have delocalized charge representation. More concretely, this means we can write:\n",
    "\n",
    "$$\n",
    "\\cos(\\hat{\\varphi}) = \\frac{1}{2}\\Big[e^{i\\hat{\\varphi}} + e^{-i\\hat{\\varphi}}\\Big] = \\frac{1}{2}\\sum\\limits_{n=-\\infty}^{\\infty} \\Big[ |n+1\\rangle\\!\\langle n| + |n\\rangle\\!\\langle n + 1|\\Big]\n",
    "$$\n",
    "\n",
    "Numerically, we must work with a finite charge truncation $N_{\\rm max}^{\\rm charge}$. "
   ]
  },
  {
   "cell_type": "markdown",
   "metadata": {
    "cell_id": "eb78aa4397524b579c6c16a0483a6266",
    "deepnote_cell_height": 243.125,
    "deepnote_cell_type": "markdown",
    "tags": []
   },
   "source": [
    "**Prob. 1.1:** Read through the code snippet below for defining the `Transmon` qubit class, and take some time to make sure you understand how it is set up. `Transmon` inherits some helper functions from a `Qubit` class already written for you. Then, **fill out the `build_ops()` function:**\n",
    "- [ ] **(a)** Construct the truncated charge operator $\\hat{n}$.\n",
    "- [ ] **(b)** Construct the truncated $\\cos(\\hat{\\varphi})$ operator.\n",
    "- [ ] **(c)** Construct identity operators of the correct dimensions for the charge and energy bases.\n",
    "\n",
    "**Prob. 1.2:** Write a function `get_H()` to construct the transmon Hamiltonian above in the charge basis, using the operators you defined above. "
   ]
  },
  {
   "cell_type": "code",
   "execution_count": 3,
   "metadata": {
    "cell_id": "00005-66af734b-9988-4875-89b0-72ffdb194c4c",
    "deepnote_cell_height": 1863,
    "deepnote_cell_type": "code",
    "deepnote_to_be_reexecuted": false,
    "execution_millis": 188,
    "execution_start": 1653682791517,
    "source_hash": "b38da37",
    "tags": []
   },
   "outputs": [],
   "source": [
    "class Transmon(Qubit):\n",
    "    \"\"\"\n",
    "    Transmon qubit class. \n",
    "    \n",
    "    Args:\n",
    "        params (Dict): Dictionary of parameters defining the qubit\n",
    "    \n",
    "    On init:\n",
    "        - Runs build_ops() function. All operators can be saved in dictionary self.ops\n",
    "        - Generates empty results dictionary self.eig_system \n",
    "    \"\"\"\n",
    "    \n",
    "    expected_params = [\"Ej\", \"Ec\", \"ng\", \"N_max_charge\"]\n",
    "\n",
    "    def __init__(self, params: Dict[str, Any]):\n",
    "        # Initialize self.params for storing all system parameters\n",
    "        self.params = params.copy()\n",
    "        \n",
    "        # Set the energy eigenbasis truncation if not specified\n",
    "        if \"N_max\" not in self.params:\n",
    "            self.params[\"N_max\"] = 2 * self.params[\"N_max_charge\"] + 1\n",
    "        else:\n",
    "            # Ensure energy eigenbasis dim is not greater than total charge dim\n",
    "            assert self.params[\"N_max\"] <= 2 * self.params[\"N_max_charge\"] + 1\n",
    "        super().__init__(self.params)\n",
    "\n",
    "    \n",
    "    # Build Transmon Operators\n",
    "    # ==========================================\n",
    "    def build_ops(self):\n",
    "        self.ops[\"N\"] = self.calc_n_op()\n",
    "        self.ops[\"cos(φ)\"] = self.build_cos_phi_op()\n",
    "        self.ops[\"Id_charge\"] = qt.qeye(2 * self.params[\"N_max_charge\"] + 1)\n",
    "        self.ops[\"Id\"] = qt.qeye(self.params[\"N_max\"])\n",
    "\n",
    "    def calc_n_op(self):\n",
    "        # We define the charge operator N = ∑ₙ n|n><n| in the charge basis\n",
    "        N_max_charge = self.params[\"N_max_charge\"]\n",
    "        return qt.Qobj(np.diag(np.arange(-N_max_charge, N_max_charge + 1)))\n",
    "\n",
    "    def build_cos_phi_op(self):\n",
    "        # We define cos(φ) = 1/2 * ∑ₙ|n><n+1| + h.c. in the charge basis\n",
    "        N_max_charge = self.params[\"N_max_charge\"]\n",
    "        return 0.5 * qt.Qobj(\n",
    "            np.eye(2 * N_max_charge + 1, k=1) \n",
    "            + np.eye(2 * N_max_charge + 1, k=-1)\n",
    "        )\n",
    "    \n",
    "    @property\n",
    "    def phi_zpf(self):\n",
    "        \"\"\"\n",
    "        Returns the phase zero-point fluctuation of the transmon.\n",
    "        \"\"\"\n",
    "        Ec = self.params[\"Ec\"]\n",
    "        Ej = self.params[\"Ej\"]\n",
    "        return (2*Ec / Ej)**(1/4)\n",
    "    \n",
    "    @property\n",
    "    def n_zpf(self):\n",
    "        \"\"\"\n",
    "        Returns the charge zero-point fluctuation of the transmon.\n",
    "        \"\"\"\n",
    "        Ec = self.params[\"Ec\"]\n",
    "        Ej = self.params[\"Ej\"]\n",
    "        return np.sqrt(np.sqrt((Ej / (32*Ec))))\n",
    "    \n",
    "    \n",
    "    # System Hamiltonian Definitions\n",
    "    # ==========================================\n",
    "    def get_H(self):\n",
    "        \"\"\"\n",
    "        Method for constructing the transmon Hamiltonian H₀ = 4*Ec*(n - ng)² - Ej*cos(φ) \n",
    "        in the charge basis.\n",
    "        \"\"\"\n",
    "        Ej = self.params[\"Ej\"]\n",
    "        Ec = self.params[\"Ec\"]\n",
    "        ng = self.params[\"ng\"]\n",
    "\n",
    "        return (\n",
    "            4 * Ec * (self.ops[\"N\"] - ng * self.ops[\"Id_charge\"]) ** 2\n",
    "            - Ej * self.ops[\"cos(φ)\"]\n",
    "        )\n",
    "\n",
    "    @property\n",
    "    def Ud(self):\n",
    "        \"\"\"\n",
    "        Unitary change of basis matrix consisting of eigenvectors of H₀ as columns. \n",
    "        \"\"\"\n",
    "        return qt.Qobj(self.eig_system['vecs'])\n",
    "    \n",
    "    @property\n",
    "    def H0(self):\n",
    "        \"\"\"\n",
    "        Method to generate the truncated system Hamiltonian H₀ in its energy eigenbasis. \n",
    "        Note: this rescales the energies so that the ground state energy is 0.\n",
    "\n",
    "        TODO: 3 methods to do this: via eigvals, via Ud, via op_matrix function (also Ud)\n",
    "        \"\"\"\n",
    "        eigvals = self.eig_system['vals'] - self.eig_system['vals'][0]\n",
    "        return qt.Qobj(np.diag(eigvals))"
   ]
  },
  {
   "cell_type": "markdown",
   "metadata": {
    "cell_id": "00006-f1cf09b9-1fc8-4a17-8cba-b357f9146459",
    "deepnote_cell_height": 159.171875,
    "deepnote_cell_type": "markdown"
   },
   "source": [
    "### Testing your Transmon\n",
    "\n",
    "Tip 1: You can use `eig_system['vals']` and `eig_system['vecs']` to get the _sorted_ eigenvectors/values the Hamiltonian in `get_H`. \n",
    "\n",
    "Tip 2: Use the `qubit_report()` function to get (and print) the qubit \n",
    "\n"
   ]
  },
  {
   "cell_type": "code",
   "execution_count": 4,
   "metadata": {
    "cell_id": "00007-000578ae-fbfc-49ac-aace-7b41ca37c528",
    "deepnote_cell_height": 240.375,
    "deepnote_cell_type": "code",
    "deepnote_to_be_reexecuted": false,
    "execution_millis": 70,
    "execution_start": 1653682791712,
    "source_hash": "36bc53b6",
    "tags": []
   },
   "outputs": [
    {
     "name": "stdout",
     "output_type": "stream",
     "text": [
      "Qubit frequency ω01 = 6.063469337990776 GHz\n",
      "Qubit anharmonicity α = -277.38582371853227 MHz\n"
     ]
    }
   ],
   "source": [
    "N_max_charge = 15\n",
    "N_max = 10\n",
    "Ec = 0.25\n",
    "Ej = 20\n",
    "\n",
    "transmon = Transmon({\"Ec\": Ec, \"Ej\": Ej, \"ng\": 0, \"N_max_charge\": N_max_charge, \"N_max\": N_max})\n",
    "bare_eigvals, bare_eigvecs = transmon.eig_system.values()\n",
    "\n",
    "_ = transmon.qubit_report()"
   ]
  },
  {
   "cell_type": "code",
   "execution_count": 5,
   "metadata": {
    "cell_id": "00008-1dcace3e-b007-4150-a9ed-ec7e50c46316",
    "deepnote_cell_height": 521.125,
    "deepnote_cell_type": "code",
    "deepnote_output_heights": [
     424.125
    ],
    "deepnote_to_be_reexecuted": false,
    "execution_millis": 47,
    "execution_start": 1653682791788,
    "source_hash": "1c4f7aeb"
   },
   "outputs": [
    {
     "data": {
      "text/latex": [
       "Quantum object: dims = [[10], [10]], shape = (10, 10), type = oper, isherm = True\\begin{equation*}\\left(\\begin{array}{*{11}c}0.0 & 0.0 & 0.0 & 0.0 & 0.0 & 0.0 & 0.0 & 0.0 & 0.0 & 0.0\\\\0.0 & 6.063 & 0.0 & 0.0 & 0.0 & 0.0 & 0.0 & 0.0 & 0.0 & 0.0\\\\0.0 & 0.0 & 11.850 & 0.0 & 0.0 & 0.0 & 0.0 & 0.0 & 0.0 & 0.0\\\\0.0 & 0.0 & 0.0 & 17.334 & 0.0 & 0.0 & 0.0 & 0.0 & 0.0 & 0.0\\\\0.0 & 0.0 & 0.0 & 0.0 & 22.483 & 0.0 & 0.0 & 0.0 & 0.0 & 0.0\\\\0.0 & 0.0 & 0.0 & 0.0 & 0.0 & 27.260 & 0.0 & 0.0 & 0.0 & 0.0\\\\0.0 & 0.0 & 0.0 & 0.0 & 0.0 & 0.0 & 31.459 & 0.0 & 0.0 & 0.0\\\\0.0 & 0.0 & 0.0 & 0.0 & 0.0 & 0.0 & 0.0 & 35.680 & 0.0 & 0.0\\\\0.0 & 0.0 & 0.0 & 0.0 & 0.0 & 0.0 & 0.0 & 0.0 & 37.360 & 0.0\\\\0.0 & 0.0 & 0.0 & 0.0 & 0.0 & 0.0 & 0.0 & 0.0 & 0.0 & 44.013\\\\\\end{array}\\right)\\end{equation*}"
      ],
      "text/plain": [
       "Quantum object: dims = [[10], [10]], shape = (10, 10), type = oper, isherm = True\n",
       "Qobj data =\n",
       "[[ 0.          0.          0.          0.          0.          0.\n",
       "   0.          0.          0.          0.        ]\n",
       " [ 0.          6.06346934  0.          0.          0.          0.\n",
       "   0.          0.          0.          0.        ]\n",
       " [ 0.          0.         11.84955285  0.          0.          0.\n",
       "   0.          0.          0.          0.        ]\n",
       " [ 0.          0.          0.         17.33404947  0.          0.\n",
       "   0.          0.          0.          0.        ]\n",
       " [ 0.          0.          0.          0.         22.48285714  0.\n",
       "   0.          0.          0.          0.        ]\n",
       " [ 0.          0.          0.          0.          0.         27.25978937\n",
       "   0.          0.          0.          0.        ]\n",
       " [ 0.          0.          0.          0.          0.          0.\n",
       "  31.45930826  0.          0.          0.        ]\n",
       " [ 0.          0.          0.          0.          0.          0.\n",
       "   0.         35.68032507  0.          0.        ]\n",
       " [ 0.          0.          0.          0.          0.          0.\n",
       "   0.          0.         37.35963454  0.        ]\n",
       " [ 0.          0.          0.          0.          0.          0.\n",
       "   0.          0.          0.         44.01304218]]"
      ]
     },
     "execution_count": 5,
     "metadata": {},
     "output_type": "execute_result"
    }
   ],
   "source": [
    "transmon.H0"
   ]
  },
  {
   "cell_type": "markdown",
   "metadata": {
    "cell_id": "00009-315d5adf-ca2e-4818-9525-48351d0a3799",
    "deepnote_cell_height": 159.171875,
    "deepnote_cell_type": "markdown"
   },
   "source": [
    "### What to Set for Truncation?\n",
    "**Prob. 1.3:** Write a function `H0` above that rewrites the system Hamiltonian in its _energy eigenbasis_ using the calculated eigensystem. Rescale all the energies so that the ground state $|0\\rangle$ has energy $0$. \n",
    "\n",
    "**Prob. 1.4:** Play around with different values of `N_max_charge` to determine a good rule of thumb for truncation size."
   ]
  },
  {
   "cell_type": "code",
   "execution_count": 6,
   "metadata": {
    "cell_id": "00010-23c6e8b6-c014-4273-b807-3f34638ed554",
    "deepnote_cell_height": 539.125,
    "deepnote_cell_type": "code",
    "deepnote_output_heights": [
     424.125
    ],
    "deepnote_to_be_reexecuted": false,
    "execution_millis": 2,
    "execution_start": 1653682791885,
    "source_hash": "e4cc09eb"
   },
   "outputs": [
    {
     "data": {
      "text/latex": [
       "Quantum object: dims = [[10], [10]], shape = (10, 10), type = oper, isherm = True\\begin{equation*}\\left(\\begin{array}{*{11}c}0.0 & 0.0 & 0.0 & 0.0 & 0.0 & 0.0 & 0.0 & 0.0 & 0.0 & 0.0\\\\0.0 & 6.063 & 0.0 & 0.0 & 0.0 & 0.0 & 0.0 & 0.0 & 0.0 & 0.0\\\\0.0 & 0.0 & 11.850 & 0.0 & 0.0 & 0.0 & 0.0 & 0.0 & 0.0 & 0.0\\\\0.0 & 0.0 & 0.0 & 17.334 & 0.0 & 0.0 & 0.0 & 0.0 & 0.0 & 0.0\\\\0.0 & 0.0 & 0.0 & 0.0 & 22.483 & 0.0 & 0.0 & 0.0 & 0.0 & 0.0\\\\0.0 & 0.0 & 0.0 & 0.0 & 0.0 & 27.260 & 0.0 & 0.0 & 0.0 & 0.0\\\\0.0 & 0.0 & 0.0 & 0.0 & 0.0 & 0.0 & 31.459 & 0.0 & 0.0 & 0.0\\\\0.0 & 0.0 & 0.0 & 0.0 & 0.0 & 0.0 & 0.0 & 35.680 & 0.0 & 0.0\\\\0.0 & 0.0 & 0.0 & 0.0 & 0.0 & 0.0 & 0.0 & 0.0 & 37.360 & 0.0\\\\0.0 & 0.0 & 0.0 & 0.0 & 0.0 & 0.0 & 0.0 & 0.0 & 0.0 & 44.013\\\\\\end{array}\\right)\\end{equation*}"
      ],
      "text/plain": [
       "Quantum object: dims = [[10], [10]], shape = (10, 10), type = oper, isherm = True\n",
       "Qobj data =\n",
       "[[ 0.          0.          0.          0.          0.          0.\n",
       "   0.          0.          0.          0.        ]\n",
       " [ 0.          6.06346934  0.          0.          0.          0.\n",
       "   0.          0.          0.          0.        ]\n",
       " [ 0.          0.         11.84955285  0.          0.          0.\n",
       "   0.          0.          0.          0.        ]\n",
       " [ 0.          0.          0.         17.33404947  0.          0.\n",
       "   0.          0.          0.          0.        ]\n",
       " [ 0.          0.          0.          0.         22.48285714  0.\n",
       "   0.          0.          0.          0.        ]\n",
       " [ 0.          0.          0.          0.          0.         27.25978937\n",
       "   0.          0.          0.          0.        ]\n",
       " [ 0.          0.          0.          0.          0.          0.\n",
       "  31.45930826  0.          0.          0.        ]\n",
       " [ 0.          0.          0.          0.          0.          0.\n",
       "   0.         35.68032507  0.          0.        ]\n",
       " [ 0.          0.          0.          0.          0.          0.\n",
       "   0.          0.         37.35963454  0.        ]\n",
       " [ 0.          0.          0.          0.          0.          0.\n",
       "   0.          0.          0.         44.01304218]]"
      ]
     },
     "execution_count": 6,
     "metadata": {},
     "output_type": "execute_result"
    }
   ],
   "source": [
    "# TODO: Try to get this to be diagonal!\n",
    "transmon.H0"
   ]
  },
  {
   "cell_type": "code",
   "execution_count": 7,
   "metadata": {
    "cell_id": "00011-6cc0610b-ddf6-4f0a-8055-c45d4706d9c4",
    "deepnote_cell_height": 650,
    "deepnote_cell_type": "code",
    "deepnote_output_heights": [
     265
    ],
    "deepnote_to_be_reexecuted": false,
    "execution_millis": 336,
    "execution_start": 1653682791930,
    "source_hash": "f29147fc"
   },
   "outputs": [
    {
     "data": {
      "image/png": "[encoded data removed]",
      "text/plain": [
       "<Figure size 900x600 with 1 Axes>"
      ]
     },
     "metadata": {
      "needs_background": "light"
     },
     "output_type": "display_data"
    }
   ],
   "source": [
    "# Optional TODO: Test out what to choose for N_max_charge here. \n",
    "\n",
    "cutoff_list = np.arange(1, 15)\n",
    "\n",
    "freqs = []\n",
    "for c in cutoff_list:\n",
    "    t = Transmon({\"Ec\": 0.15, \"Ej\": 30, \"ng\": 0, \"N_max_charge\": c})\n",
    "    \n",
    "    evals = t.eig_system['vals']\n",
    "    omega_01 = evals[1] - evals[0]\n",
    "    \n",
    "    freqs.append(omega_01)\n",
    "\n",
    "plt.plot(cutoff_list, freqs)\n",
    "plt.xlabel(\"N_max_charge\")\n",
    "plt.ylabel(\"Qubit Frequency\")\n",
    "plt.show()"
   ]
  },
  {
   "cell_type": "markdown",
   "metadata": {
    "cell_id": "00012-faeeeb48-576e-482b-ae90-5372cf7187f5",
    "deepnote_cell_height": 907.21875,
    "deepnote_cell_type": "markdown",
    "tags": []
   },
   "source": [
    "## 2. Setting up a Floquet Hamiltonian\n",
    "\n",
    "Following the lecture, we now consider the time-dependent Hamiltonian of the driven transmon:\n",
    "\n",
    "$$\n",
    "\\begin{aligned}\n",
    "\\hat{H}(t) &= \\hat{H}_0 + \\hat{H}_d(t) \\\\ &= 4 E_C\\big(\\hat{n} - n_g\\big)^2 - E_J \\cos(\\hat{\\varphi}) + \\Omega \\hat{\\mathcal{Q}}\\cos(\\omega t)\n",
    "\\end{aligned}\n",
    "$$\n",
    "\n",
    "Here, the drive is periodic with period $T = 2\\pi / \\omega$, and has a drive amplitude $\\Omega$. The operator $\\hat{\\mathcal{Q}}$ represents the drive coupling, i.e. what variable is being driven. For a transmon pumped through a capacitively coupled tranmission line, we typically take $\\hat{\\mathcal{Q}} = \\hat{n} / n_{\\rm zpf} \\, \\sim \\, (\\hat{b}^\\dagger - \\hat{b})$.\n",
    "\n",
    "\n",
    "From the Floquet theorem, we know that the above Hamiltonian admits a set of quasi-energies and Floquet modes that are solutions of the Schrodinger equation:\n",
    "\n",
    "$$\n",
    "|\\psi_\\alpha(t)\\rangle = e^{-i\\epsilon_\\alpha t/\\hbar}\\,\\, |u_\\alpha(t)\\rangle\n",
    "$$\n",
    "\n",
    "where $\\epsilon_\\alpha$ are called the quasi-energies (unique mod. $\\hbar \\omega_d)$ and $|u_\\alpha\\rangle$ are called the Floquet modes that are time-periodic: $|u_\\alpha(t)\\rangle = |u_\\alpha(t + T)\\rangle$. We can rewrite the Schrodinger equation:\n",
    "\n",
    "$$\n",
    "\\Big[H(t) - i\\hbar\\partial_t\\Big] |u_\\alpha(t)\\rangle = \\epsilon_\\alpha |u_\\alpha(t)\\rangle\n",
    "$$\n",
    "\n",
    "and the Hamiltonian on the right hand side is known as the effective Hamiltonian $\\hat{H}_{\\rm eff} \\equiv H(t) - i\\partial / \\partial t$. \n",
    "\n",
    "Next, following the lecture, we can rewrite $\\hat{H}_{\\rm eff}$ in the extended Hilbert space, where we promote $\\theta(t) = \\omega t$ to an independent degree of freedom, i.e. promote it to an operator $\\theta \\to \\hat{\\theta}$. In this case, we have \n",
    "\n",
    "$$\n",
    "-i \\frac{\\partial}{\\partial t} = -i \\omega \\frac{\\partial}{\\partial(\\omega t)} = -i\\omega \\frac{\\partial}{\\partial \\theta}\n",
    "$$\n",
    "\n",
    "But this is just the operator conjugate to $\\hat{\\theta}$! That is, we can rewrite $-i\\partial/\\partial t$ by $\\omega \\hat{M}$ where $\\hat{M}$ is the drive 'charge' operator with $[\\hat{\\theta}, \\hat{M}] = i$. Under this mapping, we can rewrite\n",
    "\n",
    "$$\n",
    "\\hat{H}_{\\rm eff} = \\hat{H}_0 + \\Omega \\hat{\\mathcal{Q}} \\cos(\\omega t) - i\\frac{\\partial}{\\partial t}\n",
    "$$\n",
    "as \n",
    "$$\n",
    "\\hat{H}_{\\rm eff} = \\hat{H}_0 + \\Omega \\hat{\\mathcal{Q}} \\cos(\\hat{\\theta}) + \\omega \\hat{M}\n",
    "$$\n",
    "\n",
    "in the extended space. We can also rewrite $\\cos(\\hat{\\theta})\\equiv \\big[\\hat{m}_+ + \\hat{m}_-\\big]$ where these operators have the form of $e^{\\pm i\\hat{\\theta}}$. \n",
    "\n",
    "Note that the eigenstates of $\\hat{H}_{\\rm eff}$ when $\\Omega = 0$ will have the form $|\\alpha\\rangle\\otimes |m\\rangle$ where $|\\alpha\\rangle$ are qubit eigenstates, and $|m\\rangle$ are the drive's \"charge\" states. The coupling between the qubit and drive gets turned on when $\\Omega$ is nonzero, and will cause qubit and drive states to hybridize.\n"
   ]
  },
  {
   "cell_type": "markdown",
   "metadata": {
    "cell_id": "00013-ae2ffa73-88ac-4b6f-9d0d-94a4f2475df3",
    "deepnote_cell_height": 46,
    "deepnote_cell_type": "markdown"
   },
   "source": [
    "____________________________________________________________________________________________________________________"
   ]
  },
  {
   "cell_type": "markdown",
   "metadata": {
    "cell_id": "00014-e0f254b0-e16c-4544-b9bf-bdbab63af067",
    "deepnote_cell_height": 195.421875,
    "deepnote_cell_type": "markdown"
   },
   "source": [
    "**Prob. 2.1:** Read through the code snippet below for defining the `DrivenQubit` class, and take some time to make sure you understand how it is set up. Then fill out the sections of `build_ops_and_states()` below:\n",
    "- [ ] Construct the drive \"charge\" operator $\\hat{M}$\n",
    "- [ ] Construct the operators $\\hat{M}_+$, $\\hat{M}_-$, and $\\cos(\\theta) \\equiv \\frac{1}{2}[\\hat{M}_+ + \\hat{M}_-]$\n",
    "\n",
    "\n",
    "**Prob. 2.2:** Construct the function `H_eff` below to build up the effective Hamiltonian of the system. To do so, use the properties `H0` and `H_d` as building blocks. "
   ]
  },
  {
   "cell_type": "code",
   "execution_count": 8,
   "metadata": {
    "cell_id": "00015-417e3659-4fcd-444e-b42c-54bfaecf35a7",
    "deepnote_cell_height": 1863,
    "deepnote_cell_type": "code",
    "deepnote_to_be_reexecuted": false,
    "execution_millis": 0,
    "execution_start": 1653682792326,
    "source_hash": "7c5db312",
    "tags": []
   },
   "outputs": [],
   "source": [
    "class DrivenQubit(DrivenSystem):\n",
    "    \"\"\"\n",
    "    Driven qubit class for constructing Floquet Hamiltonian.\n",
    "\n",
    "    Args:\n",
    "        params (Dict): Dictionary of parameters defining the driven qubit\n",
    "        qubit (Qubit): Bare quantum system (i.e. Transmon) object\n",
    "        drive_coupling (qt.Qobj): Operator coupling to the drive. Note that \n",
    "                                  drive_coupling is NOT a composite operator\n",
    "                                  and should have the dimension of the qubit.\n",
    "    \n",
    "    On init:\n",
    "        - Runs build_ops_and_states()\n",
    "        - Generates analysis dictionaries\n",
    "    \"\"\"\n",
    "    expected_params = [\"M_max\"]\n",
    "    \n",
    "    # Build drive operators and states\n",
    "    # ==========================================        \n",
    "    def build_ops_and_states(self):\n",
    "        \"\"\"\n",
    "        Method to construct drive operators in the extended Hilbert space.\n",
    "        \"\"\"\n",
    "        M_max = self.params[\"M_max\"]\n",
    "\n",
    "        # Construct M = ∑ₘ m|m><m| operator in drive charge basis\n",
    "        self.ops[\"M\"] = qt.Qobj(np.diag(np.arange(-M_max, M_max + 1)))\n",
    "        \n",
    "        # Construct Id = ∑ₘ|m><m| in the drive charge basis\n",
    "        self.ops[\"Id_drive\"] = qt.Qobj(np.identity(2 * M_max + 1))\n",
    "\n",
    "        # Construct M₊ and M₋ operators for drive\n",
    "        self.ops[\"M-\"] = qt.Qobj(np.eye(2 * M_max + 1, k=1))\n",
    "        self.ops[\"M+\"] = qt.Qobj(np.eye(2 * M_max + 1, k=-1))\n",
    "        \n",
    "        # Construct cos(θ) ≡ 1/2 * [M₊ + M₋] = 1/2 * ∑ₘ|m+1><m| + h.c\n",
    "        self.ops[\"cos(θ)\"] = 0.5 * (self.ops[\"M+\"] + self.ops[\"M-\"])\n",
    "\n",
    "        # Construct |m=0⟩ Floquet mode, corresponding to zero drive photons.\n",
    "        self.states[\"m=0\"] = qt.basis(2 * M_max + 1, M_max)\n",
    "\n",
    "        # Construct bare basis vectors and energies\n",
    "        bare_eigvals, bare_eigvecs = self.qubit.H0.eigenstates()\n",
    "        self.states[\"bare_basis\"] = [qt.tensor(ev, self.states[\"m=0\"]) for ev in bare_eigvecs]\n",
    "        self.bare_energies = bare_eigvals\n",
    "        \n",
    "    \n",
    "    # Effective Hamiltonian Definitions\n",
    "    # ==========================================\n",
    "    @property\n",
    "    def H0(self):\n",
    "        \"\"\"\n",
    "        Method to generate the bare system Hamiltonian H₀ ⊗ Id in the extended space\n",
    "        \"\"\"\n",
    "        return qt.tensor(self.qubit.H0, self.ops[\"Id_drive\"])\n",
    "    \n",
    "    @property\n",
    "    def H_d(self):\n",
    "        \"\"\"\n",
    "        Method to generate the operator part of the drive Hamiltonian H_d(t) in the extended \n",
    "        space. That is, for H_d(t) = Ω*Q*cos(ωt) and θ = ωt, we return Q ⊗ cos(θ). \n",
    "        \n",
    "        Returns:\n",
    "            Q ⊗ cos(θ) (qt.Qobj): Operator part of H_d; here Q is the drive_coupling.\n",
    "        \"\"\"\n",
    "        return qt.tensor(self.ops[\"drive_coupling\"], self.ops[\"cos(θ)\"])\n",
    "    \n",
    "    def H_eff(self, omega: float, drive_amp: float):\n",
    "        \"\"\"\n",
    "        Method to construct effective Hamiltonian H_eff = H₀ + H_d - i[∂/∂t] = H₀ + H_d + ωM\n",
    "        in the extended space. \n",
    "        \n",
    "        Args:\n",
    "            omega (float): Drive frequency\n",
    "            drive_amp (float): Drive amplitude \n",
    "        \"\"\"\n",
    "        M_composite = qt.tensor(self.qubit.ops[\"Id\"], self.ops[\"M\"])\n",
    "        return self.H0 + (drive_amp * self.H_d) + (omega * M_composite)\n",
    "    \n",
    "    # Analysis\n",
    "    # ==========================================\n",
    "    def get_state_idxs(self, omega: float):\n",
    "        \"\"\"\n",
    "        Method to get the indices of the basis states |α⟩⊗|m⟩ for all m, at zero drive amplitude\n",
    "        Ω = 0. This is done by computing the closest energies to the known energies. \n",
    "        \"\"\"\n",
    "        M_max = self.params[\"M_max\"]\n",
    "        \n",
    "        H_eff_0 = self.H_eff(omega, 0)\n",
    "        eigvals, eigvecs = H_eff_0.eigenstates()\n",
    "\n",
    "        idxs = {}\n",
    "        for i, E in enumerate(self.bare_energies):\n",
    "            for m in range(-M_max, M_max+1):\n",
    "                idx_min = np.argmin(\n",
    "                    [np.abs(E + m*omega - eigval) for eigval in eigvals]\n",
    "                )\n",
    "                idxs[(i, m)] = idx_min\n",
    "                \n",
    "        return idxs"
   ]
  },
  {
   "cell_type": "markdown",
   "metadata": {
    "cell_id": "00016-c4ba744b-11f6-4aa5-bf5d-e45a11269984",
    "deepnote_cell_height": 218.375,
    "deepnote_cell_type": "markdown"
   },
   "source": [
    "### Testing your Floquet Qubit\n",
    "\n",
    "The `DrivenQubit` object uses the `H0` method of its qubit to define the bare basis. That is, it expects the `Transmon` to be written in its eigenbasis. Recall that constructed $\\hat{H}_0 \\to \\hat{U}_d^\\dagger \\hat{H}_0 \\hat{U}_d$, where $\\hat{U}_d$ is a unitary to diagonalize the system. \n",
    "\n",
    "\n",
    "**Prob 2.3:**  The `drive_coupling` operator below is set to $\\hat{n}$. However, this is written in the original charge basis, not the energy eigenbasis. Modify it so that it is correct, and also normalized $\\hat{\\mathcal{Q}} = \\hat{U}_d^\\dagger\\hat{n}\\hat{U}_d / n_{\\rm zpf}$. \n",
    "\n",
    "Hint: use `transmon.Ud` or the pre-built function `transmon.op_matrix_in_H_eigenbasis`"
   ]
  },
  {
   "cell_type": "code",
   "execution_count": 9,
   "metadata": {
    "cell_id": "00017-5a28273e-9432-4496-a342-6e43c26847d4",
    "deepnote_cell_height": 99,
    "deepnote_cell_type": "code",
    "deepnote_to_be_reexecuted": false,
    "execution_millis": 42,
    "execution_start": 1653682792327,
    "source_hash": "2eb8c44e"
   },
   "outputs": [],
   "source": [
    "# TODO: Fill in the correct Q operator here\n",
    "drive_coupling = transmon.op_matrix_in_H_eigenbasis(transmon.ops[\"N\"]) / transmon.n_zpf"
   ]
  },
  {
   "cell_type": "code",
   "execution_count": 10,
   "metadata": {
    "cell_id": "00018-1da22109-e048-40d7-88ae-6911bb6a8f5d",
    "deepnote_cell_height": 117,
    "deepnote_cell_type": "code",
    "deepnote_to_be_reexecuted": false,
    "execution_millis": 39,
    "execution_start": 1653682792370,
    "source_hash": "ae694ea"
   },
   "outputs": [],
   "source": [
    "# Set up the Floquet qubit\n",
    "M_max = 15\n",
    "fq = DrivenQubit({\"M_max\": M_max}, transmon, drive_coupling)"
   ]
  },
  {
   "cell_type": "markdown",
   "metadata": {
    "cell_id": "00019-3beeed9e-51d8-417b-bc1a-1b48ed12c912",
    "deepnote_cell_height": 70,
    "deepnote_cell_type": "markdown",
    "tags": []
   },
   "source": [
    "## 3. Numerical Diagonalization and State Assignment"
   ]
  },
  {
   "cell_type": "code",
   "execution_count": 11,
   "metadata": {
    "cell_id": "00020-535852b7-37a1-498c-92c9-fddc1b985251",
    "deepnote_cell_height": 221.75,
    "deepnote_cell_type": "code",
    "deepnote_output_heights": [
     null,
     40.375
    ],
    "deepnote_to_be_reexecuted": false,
    "execution_millis": 33,
    "execution_start": 1653682792414,
    "source_hash": "999c4095"
   },
   "outputs": [
    {
     "name": "stdout",
     "output_type": "stream",
     "text": [
      "Qubit frequency ω01 = 6.063469337990776 GHz\n",
      "Qubit anharmonicity α = -277.38582371853227 MHz\n"
     ]
    },
    {
     "data": {
      "text/plain": [
       "array([ 0.        ,  6.06346934, 11.84955285, 17.33404947, 22.48285714,\n",
       "       27.25978937, 31.45930826, 35.68032507, 37.35963454, 44.01304218])"
      ]
     },
     "execution_count": 11,
     "metadata": {},
     "output_type": "execute_result"
    }
   ],
   "source": [
    "ω01, _ = transmon.qubit_report()\n",
    "fq.bare_energies"
   ]
  },
  {
   "cell_type": "markdown",
   "metadata": {
    "cell_id": "00021-d3529084-14e2-4e57-a77f-0842122c7d35",
    "deepnote_cell_height": 495.15625,
    "deepnote_cell_type": "markdown"
   },
   "source": [
    "For a quantum system $\\hat{H}_0$ is driven via $\\hat{H}_d(t) = \\Omega \\hat{\\mathcal{Q}}\\cos(\\omega t)$, we have shown that the this is equivalent to the effective Hamiltonian $H_{\\rm eff} = H_{\\rm eff}(\\omega, \\Omega)$. In the case that $\\dim(\\hat{H}_0) = N_{\\rm max}$ and $\\dim(\\hat{H}_d) = D \\equiv 2M_{\\rm max} + 1$, we expect $\\dim(H_{\\rm eff}) = N_{\\rm max} \\times D$. \n",
    "\n",
    "Now, if we diagonalize $H_{\\rm eff}$ at a given $(\\omega, \\Omega)$, we will get $N_{\\rm max} \\times D$ unlabelled eigenvalues  and eigenvectors. **How do we identify which of these correspond to which states?** One way to do this is to compare the eigenenergies $\\lambda_1, \\lambda_2, \\ldots, \\lambda_{N_{\\rm max} D}$ with the known \"bare\" energies of the system, when the drive is turned off (i.e. $\\Omega \\to 0$). \n",
    "\n",
    "Specifically, we know\n",
    "$$\n",
    "\\hat{H}_{\\rm eff}(\\omega, \\Omega) = \\hat{H}_0 + \\Omega \\hat{\\mathcal{Q}} \\cos(\\hat{\\theta}) + \\omega \\hat{M}\n",
    "$$\n",
    "has eigenstates $|\\alpha\\rangle\\otimes |m\\rangle$ and eigenenergies $\\epsilon_\\alpha + m\\omega$.\n",
    "\n",
    "There are thus two methods to identify which states are which:\n",
    "1. Compare the eigenvectors $|V_1\\rangle, \\ldots, |V_{N_{\\rm max}D}\\rangle$ to the fixed basis $|\\alpha\\rangle\\otimes |m\\rangle$. \n",
    "2. Compare the eigenenergies $\\lambda_1, \\ldots, \\lambda_{N_{\\rm max} D}$ to the fixed energies $\\epsilon_\\alpha + m\\omega$. \n",
    "\n",
    "In the second case, we can do this by solving the optimization:\n",
    "\n",
    "$$\n",
    "{\\rm index}(\\alpha, m) = {\\rm argmin}_{\\lambda} \\,\\big|\\epsilon_\\alpha + m\\omega - \\lambda\\big|\n",
    "$$\n",
    "\n",
    "**Prob. 3.1:** Implement the above minimization above:"
   ]
  },
  {
   "cell_type": "code",
   "execution_count": 12,
   "metadata": {
    "cell_id": "00022-617ba48d-ff92-40e0-90d9-c1568cfe0dd7",
    "deepnote_cell_height": 297,
    "deepnote_cell_type": "code",
    "deepnote_to_be_reexecuted": false,
    "execution_millis": 750,
    "execution_start": 1653682792501,
    "source_hash": "c4831dc"
   },
   "outputs": [],
   "source": [
    "# Drive frequency\n",
    "ωd = ω01 + 50 * MHz\n",
    "H_eff_0 = fq.H_eff(ωd, 0)\n",
    "\n",
    "eigvals, eigvecs = H_eff_0.eigenstates()\n",
    "\n",
    "idxs = {}\n",
    "for alpha, E_alpha in enumerate(fq.bare_energies):\n",
    "    for m in range(-M_max, M_max+1):\n",
    "        idx_min = np.argmin(\n",
    "            [np.abs(E_alpha + m*ωd - eigval) for eigval in eigvals]\n",
    "        )\n",
    "        idxs[(alpha, m)] = idx_min"
   ]
  },
  {
   "cell_type": "code",
   "execution_count": 13,
   "metadata": {
    "cell_id": "00023-3e229814-68d8-4d5f-82fc-dc4ac3941126",
    "deepnote_cell_height": 99,
    "deepnote_cell_type": "code",
    "deepnote_to_be_reexecuted": false,
    "execution_millis": 38,
    "execution_start": 1653682793258,
    "source_hash": "a79a2230"
   },
   "outputs": [],
   "source": [
    "# Test this out below by playing with some values of eigvals[idxs[(α, m)]]\n"
   ]
  },
  {
   "cell_type": "markdown",
   "metadata": {
    "cell_id": "00024-47a34a82-71cf-4d83-a2da-e9d025ea54e8",
    "deepnote_cell_height": 203.59375,
    "deepnote_cell_type": "markdown",
    "tags": []
   },
   "source": [
    "## 4. Verify Floquet State Properties\n",
    "\n",
    "Recall that $[\\hat{M}_+, \\hat{M}_-] = 0$ and $[M, M_{\\pm}] = \\pm M_{\\pm}$. Furthermore, we have \n",
    "\n",
    "$$\n",
    "M_+ |m\\rangle = |m+1\\rangle; \\qquad M_- |m\\rangle = |m-1\\rangle\n",
    "$$\n",
    "\n",
    "Recall that we have stored the eigenvectors $|\\alpha\\rangle\\otimes |m\\rangle$ in the dictionary `eigvecs[idxs[(α, m)]]`. Try to test out the commutation relations and equations above, e.g. by computing matrix elements of $M_{\\pm}$ with the $|\\alpha\\rangle\\otimes |m\\rangle$ states.\n"
   ]
  },
  {
   "cell_type": "code",
   "execution_count": 14,
   "metadata": {
    "cell_id": "00025-fe4c2326-bb54-4cbb-a96c-8b65bc166b22",
    "deepnote_cell_height": 99,
    "deepnote_cell_type": "code",
    "deepnote_to_be_reexecuted": false,
    "execution_millis": 28,
    "execution_start": 1653682793304,
    "source_hash": "c08f622c"
   },
   "outputs": [],
   "source": [
    "M_plus = qt.tensor(fq.qubit.ops[\"Id\"], fq.ops[\"M+\"])\n",
    "M_min = qt.tensor(fq.qubit.ops[\"Id\"], fq.ops[\"M-\"])"
   ]
  },
  {
   "cell_type": "code",
   "execution_count": 15,
   "metadata": {
    "cell_id": "00026-f26dc742-c26b-4673-8342-2fa22c948a49",
    "deepnote_cell_height": 156.5625,
    "deepnote_cell_type": "code",
    "deepnote_output_heights": [
     59.5625
    ],
    "deepnote_to_be_reexecuted": false,
    "execution_millis": 516,
    "execution_start": 1653682793343,
    "source_hash": "8f1e28e9"
   },
   "outputs": [
    {
     "data": {
      "text/latex": [
       "Quantum object: dims = [[1], [1]], shape = (1, 1), type = bra\\begin{equation*}\\left(\\begin{array}{*{11}c}0.0\\\\\\end{array}\\right)\\end{equation*}"
      ],
      "text/plain": [
       "Quantum object: dims = [[1], [1]], shape = (1, 1), type = bra\n",
       "Qobj data =\n",
       "[[0.]]"
      ]
     },
     "execution_count": 15,
     "metadata": {},
     "output_type": "execute_result"
    }
   ],
   "source": [
    "eigvecs[idxs[(0, 1)]].dag() * M_plus * eigvecs[idxs[(0, 1)]]"
   ]
  },
  {
   "cell_type": "code",
   "execution_count": 16,
   "metadata": {
    "cell_id": "00027-d2df98e2-e21e-4b7b-aa0f-2a7f1d4ed5c9",
    "deepnote_cell_height": 453.1875,
    "deepnote_cell_type": "code",
    "deepnote_output_heights": [
     21.1875,
     250
    ],
    "deepnote_to_be_reexecuted": false,
    "execution_millis": 488,
    "execution_start": 1653682793374,
    "source_hash": "cbe30a85"
   },
   "outputs": [
    {
     "data": {
      "text/plain": [
       "[<matplotlib.lines.Line2D at 0x136fbd610>]"
      ]
     },
     "execution_count": 16,
     "metadata": {},
     "output_type": "execute_result"
    },
    {
     "data": {
      "image/png": "[encoded data removed]",
      "text/plain": [
       "<Figure size 900x600 with 1 Axes>"
      ]
     },
     "metadata": {
      "needs_background": "light"
     },
     "output_type": "display_data"
    }
   ],
   "source": [
    "# Verify the properties here \n",
    "overlaps = [np.abs(M_plus.matrix_element(eigvecs[idxs[(0, 0)]], eigvecs[idxs[(0, m)]])) for m in range(-M_max, M_max + 1)]\n",
    "\n",
    "plt.plot(overlaps)"
   ]
  },
  {
   "cell_type": "markdown",
   "metadata": {
    "cell_id": "00028-0c63fd05-f448-4035-b8be-c3eca884f554",
    "deepnote_cell_height": 70,
    "deepnote_cell_type": "markdown",
    "tags": []
   },
   "source": [
    "## 5. Plotting ac-Stark Shift"
   ]
  },
  {
   "cell_type": "code",
   "execution_count": 17,
   "metadata": {
    "cell_id": "00029-fc2a6821-2e6d-4e8b-81d8-dcca8dfb67de",
    "deepnote_cell_height": 459,
    "deepnote_cell_type": "code",
    "deepnote_to_be_reexecuted": false,
    "execution_millis": 10569,
    "execution_start": 1653682793638,
    "source_hash": "b4c3d1c2",
    "tags": []
   },
   "outputs": [],
   "source": [
    "### Code for Plotting\n",
    "\n",
    "drive_amps = np.linspace(0, 0.2, 26)\n",
    "drive_freq = ω01 + 200*MHz\n",
    "\n",
    "idxs = fq.get_state_idxs(drive_freq)\n",
    "bare_basis_idxs = [idxs[(alpha, 0)] for alpha, _ in enumerate(fq.bare_energies)]\n",
    "\n",
    "total_energies = []\n",
    "total_states = []\n",
    "for drive_amp in drive_amps:\n",
    "    \n",
    "    H_eff = fq.H_eff(drive_freq, drive_amp)\n",
    "    eigvals, eigvecs = H_eff.eigenstates()\n",
    "    \n",
    "    energies = eigvals[bare_basis_idxs]\n",
    "    states = eigvecs[bare_basis_idxs]\n",
    "    \n",
    "    total_energies.append(energies)\n",
    "    total_states.append(states)\n",
    "    \n",
    "total_energies = np.array(total_energies)"
   ]
  },
  {
   "cell_type": "code",
   "execution_count": 18,
   "metadata": {
    "cell_id": "00030-df9df305-bc14-4cb8-84e4-cbe63a97e3d8",
    "deepnote_cell_height": 117,
    "deepnote_cell_type": "code",
    "deepnote_to_be_reexecuted": false,
    "execution_millis": 346,
    "execution_start": 1653682804233,
    "source_hash": "1fa8f686"
   },
   "outputs": [],
   "source": [
    "# Extract the qubit frequencies and anharmonicities\n",
    "qubit_freqs = total_energies[:, 1] - total_energies[:, 0]\n",
    "anharms = total_energies[:, 2] + total_energies[:, 0] - 2*total_energies[:, 1]"
   ]
  },
  {
   "cell_type": "code",
   "execution_count": 19,
   "metadata": {
    "cell_id": "00031-43d79ffa-a281-4a36-94f9-77bb87e15dd2",
    "deepnote_cell_height": 499.375,
    "deepnote_cell_type": "code",
    "deepnote_output_heights": [
     null,
     264
    ],
    "deepnote_to_be_reexecuted": false,
    "execution_millis": 536,
    "execution_start": 1653682804591,
    "source_hash": "97a27f2c"
   },
   "outputs": [
    {
     "name": "stdout",
     "output_type": "stream",
     "text": [
      "Qubit frequency ω01 = 6.063469337990776 GHz\n",
      "Qubit anharmonicity α = -277.38582371853227 MHz\n"
     ]
    },
    {
     "data": {
      "image/png": "[encoded data removed]",
      "text/plain": [
       "<Figure size 900x600 with 1 Axes>"
      ]
     },
     "metadata": {
      "needs_background": "light"
     },
     "output_type": "display_data"
    }
   ],
   "source": [
    "plt.plot(drive_amps, qubit_freqs, '.')\n",
    "plt.xlabel(r\"Drive Amp. $\\Omega$ (GHz)\")\n",
    "plt.ylabel(r\"Qubit Freq. $\\omega_{\\rm ge}$ (GHz)\")\n",
    "plt.title(fr\"Parameters: $E_C = {Ec}$ GHz, $E_J = {Ej}$ GHz, $n_g = 0$\", fontsize = 8)\n",
    "plt.suptitle(r\"ac-Stark Shift: Plot of Qubit Freq. vs. Drive Amp.\")\n",
    "\n",
    "_ = fq.qubit.qubit_report()"
   ]
  },
  {
   "cell_type": "markdown",
   "metadata": {},
   "source": [
    "We see that the qubit frequency $\\omega_{\\rm ge}$ decreases with increasing drive amplitude $\\Omega$. Moreover, the dependence of $\\omega_{\\rm ge}$ on $\\Omega$ is roughly quadratic to leading order, which matches analytic theory!"
   ]
  },
  {
   "cell_type": "code",
   "execution_count": 20,
   "metadata": {
    "cell_id": "00032-580936a2-895d-47cd-8565-986e9db96991",
    "deepnote_cell_height": 415,
    "deepnote_cell_type": "code",
    "deepnote_output_heights": [
     264
    ],
    "deepnote_to_be_reexecuted": false,
    "execution_millis": 269,
    "execution_start": 1653682804860,
    "source_hash": "c90d96a"
   },
   "outputs": [
    {
     "name": "stdout",
     "output_type": "stream",
     "text": [
      "Qubit frequency ω01 = 6.063469337990776 GHz\n",
      "Qubit anharmonicity α = -277.38582371853227 MHz\n"
     ]
    },
    {
     "data": {
      "image/png": "[encoded data removed]",
      "text/plain": [
       "<Figure size 900x600 with 1 Axes>"
      ]
     },
     "metadata": {
      "needs_background": "light"
     },
     "output_type": "display_data"
    }
   ],
   "source": [
    "plt.plot(drive_amps, anharms / MHz, '.')\n",
    "plt.xlabel(\"Drive Amp. (GHz)\")\n",
    "plt.ylabel(\"Qubit Anharmonicity (MHz)\")\n",
    "plt.title(fr\"Parameters: $E_C = {Ec}$ GHz, $E_J = {Ej}$ GHz, $n_g = 0$\", fontsize = 8)\n",
    "plt.suptitle(r\"ac-Stark Shift: Plot of Anharmonicity vs. Drive Amp.\")\n",
    "\n",
    "_ = fq.qubit.qubit_report()\n",
    "\n",
    "\n",
    "plt.show()"
   ]
  },
  {
   "cell_type": "markdown",
   "metadata": {
    "cell_id": "00033-85a084ff-0a07-4c29-8c28-3e0b0d1b7138",
    "deepnote_cell_height": 237.34375,
    "deepnote_cell_type": "markdown",
    "owner_user_id": "7b48a828-74f9-4365-8b8d-666163f93efd",
    "tags": []
   },
   "source": [
    "## 6. Possible Extra Demos\n",
    "\n",
    "1. Construct the Floquet propagator and compare the time-evolution to `qt.sesolve()`\n",
    "2. Use perturbative operator-valued Floquet to get _analytic_ expressions for the effective Hamiltonian and system parameters. We can use this to fit the ac-Stark shift curves above. \n",
    "\n",
    "**For EQuS:** the code infrastructure we wrote here for simulating Floquet + qubit energy spectra is based off a similar set of tools developed by the bosonic team found in [`cavity_qubit`](https://github.mit.edu/EQuS/cavity_fluxonium). This uses some numerically optimized code in JAX for getting spectra and other properties for qubit, cavity-qubit, and driven/Floquet systems. If you're interested, please reach out to Shoumik! "
   ]
  },
  {
   "cell_type": "code",
   "execution_count": null,
   "metadata": {
    "cell_id": "00034-82664949-7770-460d-9eda-55b9ea05a76a",
    "deepnote_cell_height": 81,
    "deepnote_cell_type": "code",
    "deepnote_to_be_reexecuted": false,
    "execution_millis": 3,
    "execution_start": 1653682805119,
    "source_hash": "b623e53d"
   },
   "outputs": [],
   "source": []
  }
 ],
 "metadata": {
  "deepnote": {},
  "deepnote_execution_queue": [],
  "deepnote_notebook_id": "9af69fe4-a1d2-41b5-bd16-4790e13d0e93",
  "kernelspec": {
   "display_name": "Python 3 (ipykernel)",
   "language": "python",
   "name": "python3"
  },
  "language_info": {
   "codemirror_mode": {
    "name": "ipython",
    "version": 3
   },
   "file_extension": ".py",
   "mimetype": "text/x-python",
   "name": "python",
   "nbconvert_exporter": "python",
   "pygments_lexer": "ipython3",
   "version": "3.8.12"
  }
 },
 "nbformat": 4,
 "nbformat_minor": 2
}
