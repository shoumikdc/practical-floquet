{
 "cells": [
  {
   "cell_type": "markdown",
   "metadata": {
    "cell_id": "69a14798592c4dba87b25bb357e15430",
    "deepnote_cell_height": 394.6875,
    "deepnote_cell_type": "markdown",
    "tags": []
   },
   "source": [
    "# Practical Floquet Theory: Demo\n",
    "Tools, tips, and tricks for numerically simulating periodically-driven quantum systems. For more details, please refer to the [notes](https://drive.google.com/drive/folders/13KFdqEYV_USliVJZTkE3Ii6wOhVC7Dug?usp=sharing) accompanying this tutorial.\n",
    "\n",
    "Driven nonlinear systems are ubiquitous throughout physics, and can result in a rich set of dynamical phenomena that are absent in the static case. Within superconducting qubits and circuit QED, we are often interested in understanding the effects that arise when we drive given nonlinear circuit element --- for example, the ac Stark shift or the renormalization of system nonlinearities. More generally, drives can be thought of as a powerful control knob in the cQED toolbox that allow for in-situ modification of the system Hamiltonian. Some exciting examples of recent use cases in the field include dynamical sweet spot engineering, microwave-activated 2Q gates, and realizing Kerr cat qubits, among many others.  \n",
    "\n",
    "When the drive acting on a system is time-periodic, we can use **Floquet theory** to rigorously capture the associated dynamical effects. There are several largely equivalent ways to formulate Floquet problems; some are more amenable to numerical simulation, while others are useful to doing analytic perturbation theory. Here we focus on the former --- specifically, using the extended Hilbert space formalism developed in the lecture part of this tutorial. "
   ]
  },
  {
   "cell_type": "code",
   "execution_count": null,
   "metadata": {
    "cell_id": "02f7c4b5-7439-43b1-9af7-ecfc86f3f292",
    "deepnote_cell_height": 207,
    "deepnote_cell_type": "code",
    "deepnote_to_be_reexecuted": false,
    "execution_millis": 4485,
    "execution_start": 1652985846528,
    "source_hash": "a51804cf",
    "tags": []
   },
   "outputs": [],
   "source": [
    "# Import relevant packages and set up notebook\n",
    "import qutip as qt\n",
    "import numpy as np\n",
    "import matplotlib.pyplot as plt\n",
    "import matplotlib as mpl\n",
    "mpl.rcParams['figure.dpi'] = 150\n",
    "\n",
    "from qubits import *"
   ]
  },
  {
   "cell_type": "markdown",
   "metadata": {
    "cell_id": "3e1a3385966542c191c9398cf357234c",
    "deepnote_cell_height": 512.25,
    "deepnote_cell_type": "markdown",
    "tags": []
   },
   "source": [
    "## 0. Overview and Problem Setup\n",
    "\n",
    "\n",
    "In this notebook, we will be working on developing a simple numerical simulation of a driven transmon qubit. Using the tools from Floquet theory, we will build up a simple simulator that allows us to construct the effective Hamiltonian of a driven qubit and diagonalize it to get the quasi-energy spectrum. \n",
    "\n",
    "This notebook is broken into several short sections:\n",
    "1. **Transmon Physics:** Here, we will build up a `Transmon` qubit object, and verify its properties. \n",
    "2. **Setting Up the Floquet System:** Here, we will write a model for a driven qubit and construct the effective Hamiltonian $H_{\\rm eff}$ associated with it. \n",
    "3. **Numerical Diagonalization:** After creating $H_{\\rm eff}$, we diagonalize it and perform quantum number assignment (i.e. state assignment). \n",
    "4. **Verifying Floquet properties:** We check that the various commutation relations and Floquet theorems work.\n",
    "4. **Plotting Energy Spectra**: We apply the tools from steps 1-3 to simulate the ac-Stark shift of an off-resonantly driven transmon qubit. \n",
    "\n",
    "\n",
    "\n",
    "In each section, you will have some short coding problems to work on. Most of this involves filling out the empty code blocks below, as well as testing out various parameters for the simulation. \n",
    "\n",
    "Finally, note that we set $h = 1$, and _use GHz for all energy/frequency parameters_ below! In order to make sure that you are careful with units, we have defined some helpful constants: `GHz = 1`, `MHz = 1e-3`, and `kHz = 1e-6`. \n",
    "\n",
    "\n"
   ]
  },
  {
   "cell_type": "markdown",
   "metadata": {
    "cell_id": "92257e836c694056893a1981c07eceaa",
    "deepnote_cell_height": 692.40625,
    "deepnote_cell_type": "markdown",
    "tags": []
   },
   "source": [
    "## 1. Transmon Physics\n",
    "We begin by defining the transmon qubit via its Hamiltonian\n",
    "$$\n",
    "\\hat{H}_0 = 4 E_C\\big(\\hat{n} - n_g\\big)^2 - E_J \\cos(\\hat{\\varphi})\n",
    "$$\n",
    "In the transmon regime, we require $E_C \\ll E_J$. In this limit, charge dispersion is suppressed exponentially and so the spectrum of $\\hat{H}_0$ should be insensitive to $n_g$; so we can just set it to zero throughout here.\n",
    "\n",
    "In the charge basis $\\{|n\\rangle\\}$, the dimensionless charge operator $\\hat{n}$ can be expressed\n",
    "$$\n",
    "\\hat{n} = \\sum\\limits_{n=-\\infty}^{\\infty} n |n\\rangle\\!\\langle n |\n",
    "$$\n",
    "such that $\\hat{n}|n\\rangle = n|n\\rangle$. In this basis, periodic function of the conjugate phase operator $\\hat{\\varphi}$ have delocalized charge representation. More concretely, this means we can write:\n",
    "\n",
    "$$\n",
    "\\cos(\\hat{\\varphi}) = \\frac{1}{2}\\Big[e^{i\\hat{\\varphi}} + e^{-i\\hat{\\varphi}}\\Big] = \\frac{1}{2}\\sum\\limits_{n=-\\infty}^{\\infty} \\Big[ |n+1\\rangle\\!\\langle n| + |n\\rangle\\!\\langle n + 1|\\Big]\n",
    "$$\n",
    "\n",
    "Numerically, we must work with a finite charge truncation $N_{\\rm max}^{\\rm charge}$. \n",
    "\n",
    "\n",
    "**Prob 1.1:** Read through the code snippet below for defining the `Transmon` qubit class, and take some time to make sure you understand how it is set up. `Transmon` inherits some helper functions from a `Qubit` class already written for you. Then, **fill out the `build_ops()` function:**\n",
    "- [ ] **(a)** Construct the truncated charge operator $\\hat{n}$.\n",
    "- [ ] **(b)** Construct the truncated $\\cos(\\hat{\\varphi})$ operator.\n",
    "- [ ] **(c)** Construct identity operators of the correct dimensions for the charge and energy bases.\n",
    "    \n",
    "**Prob. 1.2:** Write a function `get_H()` to construct the transmon Hamiltonian above in the charge basis, using the operators you defined above. "
   ]
  },
  {
   "cell_type": "code",
   "execution_count": null,
   "metadata": {
    "cell_id": "5011f06ca109431f8f5007f99f0ca99d",
    "deepnote_cell_height": 1845,
    "deepnote_cell_type": "code",
    "deepnote_to_be_reexecuted": false,
    "execution_millis": 1,
    "execution_start": 1652986086911,
    "source_hash": "555d3b85",
    "tags": []
   },
   "outputs": [],
   "source": [
    "class Transmon(Qubit):\n",
    "    \"\"\"\n",
    "    Transmon qubit class. \n",
    "    \n",
    "    Args:\n",
    "        params (Dict): Dictionary of parameters defining the qubit\n",
    "    \n",
    "    On init:\n",
    "        - Runs build_ops() function. All operators can be saved in dictionary self.ops\n",
    "        - Generates empty results dictionary self.eig_system \n",
    "    \"\"\"\n",
    "    \n",
    "    expected_params = [\"Ej\", \"Ec\", \"ng\", \"N_max_charge\"]\n",
    "\n",
    "    def __init__(self, params: Dict[str, Any]):\n",
    "        # Initialize self.params for storing all system parameters\n",
    "        self.params = params.copy()\n",
    "        \n",
    "        # Set the energy eigenbasis truncation if not specified\n",
    "        if \"N_max\" not in self.params:\n",
    "            self.params[\"N_max\"] = 2 * self.params[\"N_max_charge\"] + 1\n",
    "        else:\n",
    "            # Ensure energy eigenbasis dim is not greater than total charge dim\n",
    "            assert self.params[\"N_max\"] <= 2 * self.params[\"N_max_charge\"] + 1\n",
    "        super().__init__(self.params)\n",
    "\n",
    "    \n",
    "    # Build Transmon Operators\n",
    "    # ==========================================\n",
    "    def build_ops(self):\n",
    "        self.ops[\"N\"] = self.calc_n_op()\n",
    "        self.ops[\"cos(φ)\"] = self.build_cos_phi_op()\n",
    "        self.ops[\"Id_charge\"] = qt.qeye(2 * self.params[\"N_max_charge\"] + 1)\n",
    "        self.ops[\"Id\"] = qt.qeye(self.params[\"N_max\"])\n",
    "\n",
    "    def calc_n_op(self):\n",
    "        # We define the charge operator N = ∑ₙ n|n><n| in the charge basis\n",
    "        N_max_charge = self.params[\"N_max_charge\"]\n",
    "        \n",
    "        # TODO: Define the charge operator here\n",
    "        pass\n",
    "\n",
    "\n",
    "    def build_cos_phi_op(self):\n",
    "        # We define cos(φ) = 1/2 * ∑ₙ|n><n+1| + h.c. in the charge basis\n",
    "        N_max_charge = self.params[\"N_max_charge\"]\n",
    "        \n",
    "        # TODO: Define the cos(φ) operator here\n",
    "        pass\n",
    "        \n",
    "    \n",
    "    @property\n",
    "    def phi_zpf(self):\n",
    "        \"\"\"\n",
    "        Returns the phase zero-point fluctuation of the transmon.\n",
    "        \"\"\"\n",
    "        Ec = self.params[\"Ec\"]\n",
    "        Ej = self.params[\"Ej\"]\n",
    "        return (2*Ec / Ej)**(1/4)\n",
    "    \n",
    "    @property\n",
    "    def n_zpf(self):\n",
    "        \"\"\"\n",
    "        Returns the charge zero-point fluctuation of the transmon.\n",
    "        \"\"\"\n",
    "        Ec = self.params[\"Ec\"]\n",
    "        Ej = self.params[\"Ej\"]\n",
    "        return np.sqrt(np.sqrt((Ej / (32*Ec))))\n",
    "    \n",
    "    \n",
    "    # System Hamiltonian Definitions\n",
    "    # ==========================================\n",
    "    def get_H(self):\n",
    "        \"\"\"\n",
    "        Method for constructing the transmon Hamiltonian H₀ = 4*Ec*(n - ng)² - Ej*cos(φ) \n",
    "        in the charge basis.\n",
    "        \"\"\"\n",
    "        Ej = self.params[\"Ej\"]\n",
    "        Ec = self.params[\"Ec\"]\n",
    "        ng = self.params[\"ng\"]\n",
    "\n",
    "        # TODO: return transmon Hamiltonian\n",
    "        return 0\n",
    "\n",
    "    @property\n",
    "    def Ud(self):\n",
    "        \"\"\"\n",
    "        Unitary change of basis matrix consisting of eigenvectors of H₀ as columns. \n",
    "        \"\"\"\n",
    "        return qt.Qobj(self.eig_system['vecs'])\n",
    "    \n",
    "    @property\n",
    "    def H0(self):\n",
    "        \"\"\"\n",
    "        Method to generate the truncated system Hamiltonian H₀ in its energy eigenbasis. \n",
    "        Note: this rescales the energies so that the ground state energy is 0.\n",
    "        \"\"\"\n",
    "        # TODO: Fill in method to write H₀ in its eigenbasis\n",
    "        pass"
   ]
  },
  {
   "cell_type": "markdown",
   "metadata": {
    "cell_id": "00006-621d148b-d773-4a13-b3a6-41742d016ed7",
    "deepnote_cell_height": 159.171875,
    "deepnote_cell_type": "markdown"
   },
   "source": [
    "### Testing your Transmon\n",
    "\n",
    "Tip 1: You can use `eig_system['vals']` and `eig_system['vecs']` to get the _sorted_ eigenvectors/values the Hamiltonian in `get_H`. \n",
    "\n",
    "Tip 2: Use the `qubit_report()` function to get (and print) the qubit \n",
    "\n"
   ]
  },
  {
   "cell_type": "code",
   "execution_count": null,
   "metadata": {
    "cell_id": "1dd5614117374aa9bfce331b52a7c894",
    "deepnote_cell_height": 174,
    "deepnote_cell_type": "code",
    "tags": []
   },
   "outputs": [],
   "source": [
    "N_max_charge = 15\n",
    "N_max = 10\n",
    "\n",
    "transmon = Transmon({\"Ec\": 0.25, \"Ej\": 20, \"ng\": 0, \"N_max_charge\": N_max_charge, \"N_max\": N_max})\n",
    "bare_eigvals, bare_eigvecs = transmon.eig_system.values()\n",
    "\n",
    "_ = transmon.qubit_report()"
   ]
  },
  {
   "cell_type": "markdown",
   "metadata": {
    "cell_id": "00008-2951e66e-daa6-4bf0-a26b-84d0343955f9",
    "deepnote_cell_height": 159.171875,
    "deepnote_cell_type": "markdown"
   },
   "source": [
    "### What to Set for Truncation?\n",
    "**Prob. 1.3:** Write a function `H0` above that rewrites the system Hamiltonian in its _energy eigenbasis_ using the calculated eigensystem. Rescale all the energies so that the ground state $|0\\rangle$ has energy $0$. \n",
    "\n",
    "**Prob. 1.4:** Play around with different values of `N_max_charge` to determine a good rule of thumb for truncation size."
   ]
  },
  {
   "cell_type": "code",
   "execution_count": null,
   "metadata": {
    "cell_id": "9d0013f617f64197bd6f49a7742e79b2",
    "deepnote_cell_height": 84,
    "deepnote_cell_type": "code",
    "tags": []
   },
   "outputs": [],
   "source": [
    "# TODO: Try to get this to be diagonal!\n",
    "transmon.H0"
   ]
  },
  {
   "cell_type": "code",
   "execution_count": null,
   "metadata": {
    "cell_id": "7ee0b233cd5b4da0ba21d6d13a9d909a",
    "deepnote_cell_height": 66,
    "deepnote_cell_type": "code",
    "tags": []
   },
   "outputs": [],
   "source": [
    "# Optional TODO: Test out what to choose for N_max_charge here. "
   ]
  },
  {
   "cell_type": "markdown",
   "metadata": {
    "cell_id": "6fe59137e99a431cbacbfa239374c6cb",
    "deepnote_cell_height": 875.21875,
    "deepnote_cell_type": "markdown",
    "tags": []
   },
   "source": [
    "## 2. Setting up a Floquet Hamiltonian\n",
    "\n",
    "Following the lecture, we now consider the time-dependent Hamiltonian of the driven transmon:\n",
    "\n",
    "$$\n",
    "\\hat{H}(t) = \\hat{H}_0 + \\hat{H}_d(t) = 4 E_C\\big(\\hat{n} - n_g\\big)^2 - E_J \\cos(\\hat{\\varphi}) + \\Omega \\hat{\\mathcal{Q}}\\cos(\\omega t)\n",
    "$$\n",
    "\n",
    "Here, the drive is periodic with period $T = 2\\pi / \\omega$, and has a drive amplitude $\\Omega$. The operator $\\hat{\\mathcal{Q}}$ represents the drive coupling, i.e. what variable is being driven. For a transmon pumped through a capacitively coupled tranmission line, we typically take $\\hat{\\mathcal{Q}} = \\hat{n} / n_{\\rm zpf} \\, \\sim \\, (\\hat{b}^\\dagger - \\hat{b})$.\n",
    "\n",
    "\n",
    "From the Floquet theorem, we know that the above Hamiltonian admits a set of quasi-energies and Floquet modes that are solutions of the Schrodinger equation:\n",
    "\n",
    "$$\n",
    "|\\psi_\\alpha(t)\\rangle = e^{-i\\epsilon_\\alpha t/\\hbar}\\,\\, |u_\\alpha(t)\\rangle\n",
    "$$\n",
    "\n",
    "where $\\epsilon_\\alpha$ are called the quasi-energies (unique mod. $\\hbar \\omega_d)$ and $|u_\\alpha\\rangle$ are called the Floquet modes that are time-periodic: $|u_\\alpha(t)\\rangle = |u_\\alpha(t + T)\\rangle$. We can rewrite the Schrodinger equation:\n",
    "\n",
    "$$\n",
    "\\Big[H(t) - i\\hbar\\partial_t\\Big] |u_\\alpha(t)\\rangle = \\epsilon_\\alpha |u_\\alpha(t)\\rangle\n",
    "$$\n",
    "\n",
    "and the Hamiltonian on the right hand side is known as the effective Hamiltonian $\\hat{H}_{\\rm eff} \\equiv H(t) - i\\partial / \\partial t$. \n",
    "\n",
    "Next, following the lecture, we can rewrite $\\hat{H}_{\\rm eff}$ in the extended Hilbert space, where we promote $\\theta(t) = \\omega t$ to an independent degree of freedom, i.e. promote it to an operator $\\theta \\to \\hat{\\theta}$. In this case, we have \n",
    "\n",
    "$$\n",
    "-i \\frac{\\partial}{\\partial t} = -i \\omega \\frac{\\partial}{\\partial(\\omega t)} = -i\\omega \\frac{\\partial}{\\partial \\theta}\n",
    "$$\n",
    "\n",
    "But this is just the operator conjugate to $\\hat{\\theta}$! That is, we can rewrite $-i\\partial/\\partial t$ by $\\omega \\hat{M}$ where $\\hat{M}$ is the drive 'charge' operator with $[\\hat{\\theta}, \\hat{M}] = i$. Under this mapping, we can rewrite\n",
    "\n",
    "$$\n",
    "\\hat{H}_{\\rm eff} = \\hat{H}_0 + \\Omega \\hat{\\mathcal{Q}} \\cos(\\omega t) - i\\frac{\\partial}{\\partial t}\n",
    "$$\n",
    "as \n",
    "$$\n",
    "\\hat{H}_{\\rm eff} = \\hat{H}_0 + \\Omega \\hat{\\mathcal{Q}} \\cos(\\hat{\\theta}) + \\omega \\hat{M}\n",
    "$$\n",
    "\n",
    "in the extended space. We can also rewrite $\\cos(\\hat{\\theta})\\equiv \\big[\\hat{m}_+ + \\hat{m}_-\\big]$ where these operators have the form of $e^{\\pm i\\hat{\\theta}}$. \n",
    "\n",
    "Note that the eigenstates of $\\hat{H}_{\\rm eff}$ when $\\Omega = 0$ will have the form $|\\alpha\\rangle\\otimes |m\\rangle$ where $|\\alpha\\rangle$ are qubit eigenstates, and $|m\\rangle$ are the drive's \"charge\" states. The coupling between the qubit and drive gets turned on when $\\Omega$ is nonzero, and will cause qubit and drive states to hybridize.\n"
   ]
  },
  {
   "cell_type": "markdown",
   "metadata": {
    "cell_id": "00012-8cd4335c-7077-4895-bbf1-c4ecd934099e",
    "deepnote_cell_height": 46,
    "deepnote_cell_type": "markdown"
   },
   "source": [
    "____________________________________________________________________________________________________________________"
   ]
  },
  {
   "cell_type": "markdown",
   "metadata": {
    "cell_id": "00013-da1976c9-a981-4ab1-b243-4f0f49dfa7e2",
    "deepnote_cell_height": 195.421875,
    "deepnote_cell_type": "markdown"
   },
   "source": [
    "**Prob. 2.1:** Read through the code snippet below for defining the `DrivenQubit` class, and take some time to make sure you understand how it is set up. Then fill out the sections of `build_ops_and_states()` below:\n",
    "- [ ] Construct the drive \"charge\" operator $\\hat{M}$\n",
    "- [ ] Construct the operators $\\hat{M}_+$, $\\hat{M}_-$, and $\\cos(\\theta) \\equiv \\frac{1}{2}[\\hat{M}_+ + \\hat{M}_-]$\n",
    "\n",
    "\n",
    "**Prob. 2.2:** Construct the function `H_eff` below to build up the effective Hamiltonian of the system. To do so, use the properties `H0` and `H_d` as building blocks. "
   ]
  },
  {
   "cell_type": "code",
   "execution_count": null,
   "metadata": {
    "cell_id": "408875d8e8c149f0b195fd48ad667fa4",
    "deepnote_cell_height": 1902,
    "deepnote_cell_type": "code",
    "tags": []
   },
   "outputs": [],
   "source": [
    "class DrivenQubit(DrivenSystem):\n",
    "    \"\"\"\n",
    "    Driven qubit class for constructing Floquet Hamiltonian.\n",
    "\n",
    "    Args:\n",
    "        params (Dict): Dictionary of parameters defining the driven qubit\n",
    "        qubit (Qubit): Bare quantum system (i.e. Transmon) object\n",
    "        drive_coupling (qt.Qobj): Operator coupling to the drive. Note that \n",
    "                                  drive_coupling is NOT a composite operator\n",
    "                                  and should have the dimension of the qubit.\n",
    "    \n",
    "    On init:\n",
    "        - Runs build_ops_and_states()\n",
    "        - Generates analysis dictionaries\n",
    "    \"\"\"\n",
    "    expected_params = [\"M_max\"]\n",
    "    \n",
    "    # Build drive operators and states\n",
    "    # ==========================================        \n",
    "    def build_ops_and_states(self):\n",
    "        \"\"\"\n",
    "        Method to construct drive operators in the extended Hilbert space.\n",
    "        \"\"\"\n",
    "        M_max = self.params[\"M_max\"]\n",
    "\n",
    "        # TODO: Construct M = ∑ₘ m|m><m| operator in drive charge basis\n",
    "        self.ops[\"M\"] = 0 # replace with your expression \n",
    "        \n",
    "        # Construct Id = ∑ₘ|m><m| in the drive charge basis\n",
    "        self.ops[\"Id_drive\"] = qt.Qobj(np.identity(2 * M_max + 1))\n",
    "\n",
    "        # TODO: Construct M₊ and M₋ operators for drive\n",
    "        self.ops[\"M-\"] = 0 # replace with your expression \n",
    "        self.ops[\"M+\"] = 0 # replace with your expression \n",
    "        \n",
    "        # TODO: Construct cos(θ) ≡ 1/2 * [M₊ + M₋] = 1/2 * ∑ₘ|m+1><m| + h.c\n",
    "        self.ops[\"cos(θ)\"] = 0 # replace with your expression \n",
    "\n",
    "        # Construct |m=0⟩ Floquet mode, corresponding to zero drive photons.\n",
    "        self.states[\"m=0\"] = qt.basis(2 * M_max + 1, M_max)\n",
    "\n",
    "        # Construct bare basis vectors and energies\n",
    "        bare_eigvals, bare_eigvecs = self.qubit.H0.eigenstates()\n",
    "        self.states[\"bare_basis\"] = [qt.tensor(ev, self.states[\"m=0\"]) for ev in bare_eigvecs]\n",
    "        self.bare_energies = bare_eigvals\n",
    "        \n",
    "    \n",
    "    # Effective Hamiltonian Definitions\n",
    "    # ==========================================\n",
    "    @property\n",
    "    def H0(self):\n",
    "        \"\"\"\n",
    "        Method to generate the bare system Hamiltonian H₀ ⊗ Id in the extended space\n",
    "        \"\"\"\n",
    "        return qt.tensor(self.qubit.H0, self.ops[\"Id_drive\"])\n",
    "    \n",
    "    @property\n",
    "    def H_d(self):\n",
    "        \"\"\"\n",
    "        Method to generate the operator part of the drive Hamiltonian H_d(t) in the extended \n",
    "        space. That is, for H_d(t) = Ω*Q*cos(ωt) and θ = ωt, we return Q ⊗ cos(θ). \n",
    "        \n",
    "        Returns:\n",
    "            Q ⊗ cos(θ) (qt.Qobj): Operator part of H_d; here Q is the drive_coupling.\n",
    "        \"\"\"\n",
    "        # TODO: Fill in here!\n",
    "        pass\n",
    "    \n",
    "    def H_eff(self, omega: float, drive_amp: float):\n",
    "        \"\"\"\n",
    "        Method to construct effective Hamiltonian H_eff = H₀ + H_d - i[∂/∂t] = H₀ + H_d + ωM\n",
    "        in the extended space. \n",
    "        \n",
    "        Args:\n",
    "            omega (float): Drive frequency\n",
    "            drive_amp (float): Drive amplitude \n",
    "        \"\"\"\n",
    "        M_composite = qt.tensor(self.qubit.ops[\"Id\"], self.ops[\"M\"])\n",
    "        \n",
    "        # TODO: Compute H_eff using H0, H_d, and M_composite\n",
    "        pass\n",
    "    \n",
    "    # Analysis\n",
    "    # ==========================================\n",
    "    def get_state_idxs(self, omega: float):\n",
    "        \"\"\"\n",
    "        Method to get the indices of the basis states |α⟩⊗|m⟩ for all m, at zero drive amplitude\n",
    "        Ω = 0. This is done by computing the closest energies to the known energies. \n",
    "        \"\"\"\n",
    "        M_max = self.params[\"M_max\"]\n",
    "        \n",
    "        H_eff_0 = self.H_eff(omega, 0)\n",
    "        eigvals, eigvecs = H_eff_0.eigenstates()\n",
    "\n",
    "        idxs = {}\n",
    "        for i, E in enumerate(self.bare_energies):\n",
    "            for m in range(-M_max, M_max+1):\n",
    "                idx_min = np.argmin(\n",
    "                    [np.abs(E + m*omega - eigval) for eigval in eigvals]\n",
    "                )\n",
    "                idxs[(i, m)] = idx_min\n",
    "                \n",
    "        return idxs"
   ]
  },
  {
   "cell_type": "markdown",
   "metadata": {
    "cell_id": "00015-65f133cf-3b93-48e0-a37d-daad5a025a53",
    "deepnote_cell_height": 218.734375,
    "deepnote_cell_type": "markdown"
   },
   "source": [
    "### Testing your Floquet Qubit\n",
    "\n",
    "The `DrivenQubit` object uses the `H0` method of its qubit to define the bare basis. That is, it expects the `Transmon` to be written in its eigenbasis. Recall that constructed $\\hat{H}_0 \\to \\hat{U}_d^\\dagger \\hat{H}_0 \\hat{U}_d$, where $\\hat{U}_d$ is a unitary to diagonalize the system. \n",
    "\n",
    "\n",
    "**Prob 2.3:**  The `drive_coupling` operator below is set to $\\hat{n}$. However, this is written in the original charge basis, not the energy eigenbasis. Modify it so that it is correct, and also normalized $\\hat{\\mathcal{Q}} = \\hat{U}_d^\\dagger\\hat{n}\\hat{U}_d / n_{\\rm zpf}$. \n",
    "\n",
    "Hint: use `transmon.Ud` or the pre-built function `transmon.op_matrix_in_H_eigenbasis`"
   ]
  },
  {
   "cell_type": "code",
   "execution_count": null,
   "metadata": {
    "cell_id": "00016-38a49f9a-10d0-4577-87d4-030772a69517",
    "deepnote_cell_height": 99,
    "deepnote_cell_type": "code",
    "deepnote_to_be_reexecuted": false,
    "execution_millis": 91,
    "execution_start": 1652984412098,
    "source_hash": "2eb8c44e"
   },
   "outputs": [],
   "source": [
    "# TODO: Fill in the correct Q operator here\n",
    "drive_coupling = transmon.ops[\"N\"]"
   ]
  },
  {
   "cell_type": "code",
   "execution_count": null,
   "metadata": {
    "cell_id": "00017-f8169b67-d3a9-465c-9a57-b869123755c3",
    "deepnote_cell_height": 117,
    "deepnote_cell_type": "code",
    "deepnote_to_be_reexecuted": false,
    "execution_millis": 165,
    "execution_start": 1652984412215,
    "source_hash": "ae694ea"
   },
   "outputs": [],
   "source": [
    "# Set up the Floquet qubit\n",
    "M_max = 15\n",
    "fq = DrivenQubit({\"M_max\": M_max}, transmon, drive_coupling)"
   ]
  },
  {
   "cell_type": "markdown",
   "metadata": {
    "cell_id": "66f8696e411e4885a6fe2c003a33683c",
    "deepnote_cell_height": 70,
    "deepnote_cell_type": "markdown",
    "tags": []
   },
   "source": [
    "## 3. Numerical Diagonalization and State Assignment"
   ]
  },
  {
   "cell_type": "code",
   "execution_count": null,
   "metadata": {
    "cell_id": "6da806b099c74f53842fbfc6d9d49731",
    "deepnote_cell_height": 84,
    "deepnote_cell_type": "code",
    "tags": []
   },
   "outputs": [],
   "source": [
    "ω01, _ = transmon.qubit_report()\n",
    "fq.bare_energies"
   ]
  },
  {
   "cell_type": "markdown",
   "metadata": {
    "cell_id": "00020-5fdc0e53-70e6-4775-b82a-a1381f95302c",
    "deepnote_cell_height": 495.15625,
    "deepnote_cell_type": "markdown"
   },
   "source": [
    "For a quantum system $\\hat{H}_0$ is driven via $\\hat{H}_d(t) = \\Omega \\hat{\\mathcal{Q}}\\cos(\\omega t)$, we have shown that the this is equivalent to the effective Hamiltonian $H_{\\rm eff} = H_{\\rm eff}(\\omega, \\Omega)$. In the case that $\\dim(\\hat{H}_0) = N_{\\rm max}$ and $\\dim(\\hat{H}_d) = D \\equiv 2M_{\\rm max} + 1$, we expect $\\dim(H_{\\rm eff}) = N_{\\rm max} \\times D$. \n",
    "\n",
    "Now, if we diagonalize $H_{\\rm eff}$ at a given $(\\omega, \\Omega)$, we will get $N_{\\rm max} \\times D$ unlabelled eigenvalues  and eigenvectors. **How do we identify which of these correspond to which states?** One way to do this is to compare the eigenenergies $\\lambda_1, \\lambda_2, \\ldots, \\lambda_{N_{\\rm max} D}$ with the known \"bare\" energies of the system, when the drive is turned off (i.e. $\\Omega \\to 0$). \n",
    "\n",
    "Specifically, we know\n",
    "$$\n",
    "\\hat{H}_{\\rm eff}(\\omega, \\Omega) = \\hat{H}_0 + \\Omega \\hat{\\mathcal{Q}} \\cos(\\hat{\\theta}) + \\omega \\hat{M}\n",
    "$$\n",
    "has eigenstates $|\\alpha\\rangle\\otimes |m\\rangle$ and eigenenergies $\\epsilon_\\alpha + m\\omega$.\n",
    "\n",
    "There are thus two methods to identify which states are which:\n",
    "1. Compare the eigenvectors $|V_1\\rangle, \\ldots, |V_{N_{\\rm max}D}\\rangle$ to the fixed basis $|\\alpha\\rangle\\otimes |m\\rangle$. \n",
    "2. Compare the eigenenergies $\\lambda_1, \\ldots, \\lambda_{N_{\\rm max} D}$ to the fixed energies $\\epsilon_\\alpha + m\\omega$. \n",
    "\n",
    "In the second case, we can do this by solving the optimization:\n",
    "\n",
    "$$\n",
    "{\\rm index}(\\alpha, m) = {\\rm argmin}_{\\lambda} \\,\\big|\\epsilon_\\alpha + m\\omega - \\lambda\\big|\n",
    "$$\n",
    "\n",
    "**Prob. 3.1:** Implement the above minimization above:"
   ]
  },
  {
   "cell_type": "code",
   "execution_count": null,
   "metadata": {
    "cell_id": "00021-71366a7b-aef2-4a3f-9e04-f138d08c4891",
    "deepnote_cell_height": 297,
    "deepnote_cell_type": "code",
    "deepnote_to_be_reexecuted": false,
    "execution_millis": 12806,
    "execution_start": 1652984412538,
    "source_hash": "c4831dc"
   },
   "outputs": [],
   "source": [
    "# Drive frequency\n",
    "ωd = ω01 + 50 * MHz\n",
    "H_eff_0 = fq.H_eff(ωd, 0)\n",
    "\n",
    "eigvals, eigvecs = H_eff_0.eigenstates()\n",
    "\n",
    "idxs = {}\n",
    "for alpha, E_alpha in enumerate(fq.bare_energies):\n",
    "    for m in range(-M_max, M_max+1):\n",
    "        \n",
    "        # TODO: compute idx_min via the above minimization!\n",
    "\n",
    "        idxs[(alpha, m)] = idx_min"
   ]
  },
  {
   "cell_type": "code",
   "execution_count": null,
   "metadata": {
    "cell_id": "00022-da32027d-6af4-4724-9908-840ea5000e6c",
    "deepnote_cell_height": 99,
    "deepnote_cell_type": "code",
    "deepnote_to_be_reexecuted": false,
    "execution_millis": 293,
    "execution_start": 1652984425356,
    "source_hash": "a79a2230"
   },
   "outputs": [],
   "source": [
    "# Test this out below by playing with some values of eigvals[idxs[(α, m)]]\n"
   ]
  },
  {
   "cell_type": "markdown",
   "metadata": {
    "cell_id": "8384608da1fe4af6a51da79c80215314",
    "deepnote_cell_height": 203.59375,
    "deepnote_cell_type": "markdown",
    "tags": []
   },
   "source": [
    "## 4. Verify Floquet State Properties\n",
    "\n",
    "Recall that $[\\hat{M}_+, \\hat{M}_-] = 0$ and $[M, M_{\\pm}] = \\pm M_{\\pm}$. Furthermore, we have \n",
    "\n",
    "$$\n",
    "M_+ |m\\rangle = |m+1\\rangle; \\qquad M_- |m\\rangle = |m-1\\rangle\n",
    "$$\n",
    "\n",
    "Recall that we have stored the eigenvectors $|\\alpha\\rangle\\otimes |m\\rangle$ in the dictionary `eigvecs[idxs[(α, m)]]`. Try to test out the commutation relations and equations above, e.g. by computing matrix elements of $M_{\\pm}$ with the $|\\alpha\\rangle\\otimes |m\\rangle$ states.\n",
    "\n"
   ]
  },
  {
   "cell_type": "code",
   "execution_count": null,
   "metadata": {
    "cell_id": "00024-462d0725-7d6b-435c-9d9c-f48ffe4a9d09",
    "deepnote_cell_height": 99,
    "deepnote_cell_type": "code",
    "deepnote_to_be_reexecuted": false,
    "execution_millis": 92,
    "execution_start": 1652984425651,
    "source_hash": "c08f622c"
   },
   "outputs": [],
   "source": [
    "M_plus = qt.tensor(fq.qubit.ops[\"Id\"], fq.ops[\"M+\"])\n",
    "M_min = qt.tensor(fq.qubit.ops[\"Id\"], fq.ops[\"M-\"])"
   ]
  },
  {
   "cell_type": "code",
   "execution_count": null,
   "metadata": {
    "cell_id": "43eec0be641c4e2bb78ca381c2aba202",
    "deepnote_cell_height": 84,
    "deepnote_cell_type": "code",
    "tags": []
   },
   "outputs": [],
   "source": [
    "# Verify the properties here \n"
   ]
  },
  {
   "cell_type": "markdown",
   "metadata": {
    "cell_id": "242d60feed004456ba9cc176df8b6237",
    "deepnote_cell_height": 70,
    "deepnote_cell_type": "markdown",
    "tags": []
   },
   "source": [
    "## 5. Plotting ac-Stark Shift"
   ]
  },
  {
   "cell_type": "code",
   "execution_count": null,
   "metadata": {
    "cell_id": "ce1357f226cb4af39652bd4d0a7b8fa9",
    "deepnote_cell_height": 444,
    "deepnote_cell_type": "code",
    "tags": []
   },
   "outputs": [],
   "source": [
    "### Code for Plotting\n",
    "\n",
    "drive_amps = np.linspace(0, 0.2, 26)\n",
    "drive_freq = ω01 + 200*MHz\n",
    "\n",
    "idxs = fq.get_state_idxs(drive_freq)\n",
    "bare_basis_idxs = [idxs[(alpha, 0)] for alpha, _ in enumerate(fq.bare_energies)]\n",
    "\n",
    "total_energies = []\n",
    "total_states = []\n",
    "for drive_amp in drive_amps:\n",
    "    \n",
    "    H_eff = fq.H_eff(drive_freq, drive_amp)\n",
    "    eigvals, eigvecs = H_eff.eigenstates()\n",
    "    \n",
    "    energies = eigvals[bare_basis_idxs]\n",
    "    states = eigvecs[bare_basis_idxs]\n",
    "    \n",
    "    total_energies.append(energies)\n",
    "    total_states.append(states)\n",
    "    \n",
    "total_energies = np.array(total_energies)"
   ]
  },
  {
   "cell_type": "code",
   "execution_count": null,
   "metadata": {
    "cell_id": "00028-04e0051e-fcfc-4888-bdbb-745ae6eaaa33",
    "deepnote_cell_height": 117,
    "deepnote_cell_type": "code",
    "deepnote_to_be_reexecuted": true,
    "source_hash": "1fa8f686"
   },
   "outputs": [],
   "source": [
    "# Extract the qubit frequencies and anharmonicities\n",
    "qubit_freqs = total_energies[:, 1] - total_energies[:, 0]\n",
    "anharms = total_energies[:, 2] + total_energies[:, 0] - 2*total_energies[:, 1]"
   ]
  },
  {
   "cell_type": "code",
   "execution_count": null,
   "metadata": {
    "cell_id": "51599b2508f149b58190ef6c6d09ceb0",
    "deepnote_cell_height": 138,
    "deepnote_cell_type": "code",
    "tags": []
   },
   "outputs": [],
   "source": [
    "plt.plot(drive_amps, qubit_freqs, '.')\n",
    "plt.xlabel(\"Drive Amp. (GHz)\")\n",
    "plt.ylabel(\"Qubit Frequency (GHz)\")\n",
    "\n",
    "_ = fq.qubit.qubit_report()"
   ]
  },
  {
   "cell_type": "code",
   "execution_count": null,
   "metadata": {
    "cell_id": "9a740697788b4a799d444ba48785802c",
    "deepnote_cell_height": 120,
    "deepnote_cell_type": "code",
    "tags": []
   },
   "outputs": [],
   "source": [
    "plt.plot(drive_amps, anharms, '.')\n",
    "plt.xlabel(\"Drive Amp. (GHz)\")\n",
    "plt.ylabel(\"Qubit Anharmonicity (GHz)\")\n",
    "plt.show()"
   ]
  },
  {
   "cell_type": "markdown",
   "metadata": {
    "cell_id": "9ce397f56bf247d1b49e372d8119a712",
    "deepnote_cell_height": 237.34375,
    "deepnote_cell_type": "markdown",
    "owner_user_id": "7b48a828-74f9-4365-8b8d-666163f93efd",
    "tags": []
   },
   "source": [
    "## 6. Possible Extra Demos\n",
    "\n",
    "1. Construct the Floquet propagator and compare the time-evolution to `qt.sesolve()`\n",
    "2. Use perturbative operator-valued Floquet to get _analytic_ expressions for the effective Hamiltonian and system parameters. We can use this to fit the ac-Stark shift curves above. \n",
    "\n",
    "**For EQuS:** the code infrastructure we wrote here for simulating Floquet + qubit energy spectra is based off a similar set of tools developed by the bosonic team found in [`cavity_qubit`](https://github.mit.edu/EQuS/cavity_fluxonium). This uses some numerically optimized code in JAX for getting spectra and other properties for qubit, cavity-qubit, and driven/Floquet systems. If you're interested, please reach out to Shoumik! "
   ]
  },
  {
   "cell_type": "code",
   "execution_count": null,
   "metadata": {
    "cell_id": "9e784aec2fa144ab9048e17171cec031",
    "deepnote_cell_height": 66,
    "deepnote_cell_type": "code",
    "tags": []
   },
   "outputs": [],
   "source": []
  }
 ],
 "metadata": {
  "deepnote": {},
  "deepnote_execution_queue": [],
  "deepnote_notebook_id": "bb5120d3-6eb7-4731-a783-397cce018b80",
  "kernelspec": {
   "display_name": "Python 3 (ipykernel)",
   "language": "python",
   "name": "python3"
  },
  "language_info": {
   "codemirror_mode": {
    "name": "ipython",
    "version": 3
   },
   "file_extension": ".py",
   "mimetype": "text/x-python",
   "name": "python",
   "nbconvert_exporter": "python",
   "pygments_lexer": "ipython3",
   "version": "3.8.12"
  }
 },
 "nbformat": 4,
 "nbformat_minor": 2
}
